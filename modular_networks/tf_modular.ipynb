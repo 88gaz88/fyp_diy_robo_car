{
 "cells": [
  {
   "cell_type": "code",
   "execution_count": 1,
   "metadata": {},
   "outputs": [],
   "source": [
    "import numpy as np\n",
    "import matplotlib.pyplot as plt\n",
    "#from random import choice\n",
    "from matplotlib.image import BboxImage\n",
    "from matplotlib.transforms import Bbox, TransformedBbox\n",
    "from skimage.transform import resize\n",
    "from scipy.stats import norm\n",
    "import tensorflow as tf\n",
    "from utils import *\n",
    "#from tensorflow.contrib import layers"
   ]
  },
  {
   "cell_type": "code",
   "execution_count": 2,
   "metadata": {},
   "outputs": [
    {
     "name": "stderr",
     "output_type": "stream",
     "text": [
      "Loading Data: 100%|██████████| 50/50 [00:00<00:00, 800.45it/s]\n"
     ]
    }
   ],
   "source": [
    "from generator import DataGenerator as gen\n",
    "\n",
    "# For training (WILL bin steering annos, and WILL normalize throttle)           \n",
    "# Images are normalized                                                         \n",
    "# ~~~~~~~~~~~~~~~~~~~~~~~~~~~~~~~~~~~~~~~~~~~~~~~~~~~~~~~~~~~~~~~~~~~~~~~~~~~~  \n",
    "#from generator import preprocess_normalize_images_bin_annos as process_fn       \n",
    "#from generator import prepare_batch_images_and_labels_RAND_MIRROR as prep_batch \n",
    "                                                                                \n",
    "# For evaluation (will NOT bin steering annos, and will leave throttle 0-1024)  \n",
    "# Images are normalized                                                         \n",
    "# ~~~~~~~~~~~~~~~~~~~~~~~~~~~~~~~~~~~~~~~~~~~~~~~~~~~~~~~~~~~~~~~~~~~~~~~~~~~~  \n",
    "from generator import preprocess_normalize_images_only as process_fn           \n",
    "from generator import prepare_batch_images_and_labels_NO_MIRROR as prep_batch\n",
    "\n",
    "base_dir      = '../data/clr_120_160/'\n",
    "image_dir     = base_dir + 'images/'\n",
    "anno_dir      = base_dir + 'annotations/'\n",
    "test_path  = '../data/evened_test.txt'\n",
    "\n",
    "raw_test = load_dataset(test_path)\n",
    "test_gen=gen(batch_size=10, \n",
    "             data_set=raw_test[:50],\n",
    "             image_dir=image_dir,\n",
    "             anno_dir=anno_dir,\n",
    "             preprocess_fn=process_fn,\n",
    "             prepare_batch_fn=prep_batch)"
   ]
  },
  {
   "cell_type": "markdown",
   "metadata": {},
   "source": [
    "### Perform Prediction on images using ONLY test data\n"
   ]
  },
  {
   "cell_type": "code",
   "execution_count": 9,
   "metadata": {},
   "outputs": [
    {
     "name": "stderr",
     "output_type": "stream",
     "text": [
      ": Poop: 100%|██████████| 5/5 [00:00<00:00, 15.86it/s]\n"
     ]
    }
   ],
   "source": [
    "## MAKE SURE YOU LOAD THE CORRECT MODULE\n",
    "\n",
    "import base_module as model\n",
    "from load_frozen import load_graph\n",
    "\n",
    "# SUPER JANK!!! This should be defined in the model\n",
    "def prepare_data(generator):\n",
    "    batch    = generator.get_next_batch()\n",
    "    images   = batch[\"images\"]\n",
    "    steering = [ele[\"steering\"] for ele in batch[\"annotations\"]]\n",
    "    throttle = [ele[\"throttle\"] for ele in batch[\"annotations\"]]\n",
    "    return images, steering, throttle\n",
    "\n",
    "\n",
    "test_gen.reset()                                               \n",
    "t_test = trange(test_gen.steps_per_epoch)                     \n",
    "t_test.set_description(f\": Poop\")\n",
    "\n",
    "root = \"/home/jp/Documents/FYP/ml/modular_networks/__z__\"\n",
    "frozen_graph_path  = root+\"/frozen.pb\"\n",
    "tensor_lookup_path = root+\"/tensor_names.json\"\n",
    "tensor_lookup = json.load(open(tensor_lookup_path, 'r'))\n",
    "\n",
    "#frozen_graph_path = return_info[\"frozen_meta\"]\n",
    "#tensor_lookup = json.load(open(return_info[\"tensor_json\"]))\n",
    "\n",
    "prefix = \"model\"\n",
    "graph = load_graph(frozen_graph_path, prefix)\n",
    "x_tens        = graph.get_tensor_by_name(prefix+\"/\"+tensor_lookup[model.INPUTS][model.IMAGE_INPUT])\n",
    "prediction_tens = graph.get_tensor_by_name(prefix+\"/\"+tensor_lookup[model.OUTPUTS][model.PREDICTION])\n",
    "\n",
    "with tf.Session(graph=graph) as sess:\n",
    "\n",
    "    control = {\"preds\" : [], \"annos\" : []}\n",
    "    for step in t_test:                       \n",
    "        images, _, th_annos = prepare_data(test_gen)\n",
    "        prediction = sess.run(prediction_tens, feed_dict={x_tens: images})\n",
    "        control[\"preds\"].extend(prediction)\n",
    "        control[\"annos\"].extend(th_annos)"
   ]
  },
  {
   "cell_type": "code",
   "execution_count": 10,
   "metadata": {},
   "outputs": [
    {
     "data": {
      "image/png": "[encoded data removed]",
      "text/plain": [
       "<Figure size 432x288 with 1 Axes>"
      ]
     },
     "metadata": {},
     "output_type": "display_data"
    }
   ],
   "source": [
    "plt.plot(control[\"preds\"], control[\"annos\"], 'b.')\n",
    "plt.xlabel(\"predictions\")\n",
    "plt.ylabel(\"annotations\")\n",
    "fig = plt.gcf()\n",
    "#fig.savefig('tf_jp_clr_15bins_scatter.png', dpi=100)"
   ]
  },
  {
   "cell_type": "markdown",
   "metadata": {},
   "source": [
    "# Time Series tracking"
   ]
  },
  {
   "cell_type": "code",
   "execution_count": 11,
   "metadata": {},
   "outputs": [
    {
     "data": {
      "text/plain": [
       "Text(0.5,0,'throttle command')"
      ]
     },
     "execution_count": 11,
     "metadata": {},
     "output_type": "execute_result"
    },
    {
     "data": {
      "image/png": "[encoded data removed]",
      "text/plain": [
       "<Figure size 432x288 with 1 Axes>"
      ]
     },
     "metadata": {},
     "output_type": "display_data"
    }
   ],
   "source": [
    "plt.plot(control[\"preds\"], label=\"predictions\")\n",
    "plt.plot(control[\"annos\"], label=\"ground truth\")\n",
    "plt.legend(bbox_to_anchor=(1.05, 1), loc=2, borderaxespad=0.)\n",
    "plt.title(\"Time Series Throttle Predictions vs Ground Truth\")\n",
    "plt.xlabel(\"time (frames)\")\n",
    "plt.xlabel(\"throttle command\")"
   ]
  },
  {
   "cell_type": "code",
   "execution_count": null,
   "metadata": {},
   "outputs": [],
   "source": []
  },
  {
   "cell_type": "code",
   "execution_count": null,
   "metadata": {},
   "outputs": [],
   "source": []
  }
 ],
 "metadata": {
  "kernelspec": {
   "display_name": "Python [conda env:py3_tf16]",
   "language": "python",
   "name": "conda-env-py3_tf16-py"
  },
  "language_info": {
   "codemirror_mode": {
    "name": "ipython",
    "version": 3
   },
   "file_extension": ".py",
   "mimetype": "text/x-python",
   "name": "python",
   "nbconvert_exporter": "python",
   "pygments_lexer": "ipython3",
   "version": "3.6.4"
  }
 },
 "nbformat": 4,
 "nbformat_minor": 2
}
