{
 "cells": [
  {
   "cell_type": "code",
   "execution_count": 1,
   "metadata": {},
   "outputs": [],
   "source": [
    "import sys\n",
    "sys.path.append('..')\n",
    "from utils import *\n",
    "import matplotlib.pyplot as plt\n",
    "import scipy.stats as stats\n",
    "import numpy as np\n",
    "from tqdm import trange, tqdm"
   ]
  },
  {
   "cell_type": "markdown",
   "metadata": {},
   "source": [
    "Get a list of all the images in the `base_dir/images` directory. We also make sure each **image** has an associated **annotation**. We then just combine both train and test "
   ]
  },
  {
   "cell_type": "code",
   "execution_count": 7,
   "metadata": {},
   "outputs": [
    {
     "name": "stderr",
     "output_type": "stream",
     "text": [
      "  1%|          | 113/19796 [00:00<00:17, 1128.20it/s]"
     ]
    },
    {
     "name": "stdout",
     "output_type": "stream",
     "text": [
      "Importing images and annotations.\n"
     ]
    },
    {
     "name": "stderr",
     "output_type": "stream",
     "text": [
      "100%|██████████| 19796/19796 [00:17<00:00, 1123.32it/s]"
     ]
    },
    {
     "name": "stdout",
     "output_type": "stream",
     "text": [
      "[{'image_name': 'frame17500', 'steering': array(380.)}, {'image_name': 'frame00138', 'steering': array(322.)}, {'image_name': 'frame09879', 'steering': array(3.)}, {'image_name': 'frame04699', 'steering': array(912.)}, {'image_name': 'frame15507', 'steering': array(347.)}, {'image_name': 'frame04534', 'steering': array(772.)}, {'image_name': 'frame05564', 'steering': array(650.)}, {'image_name': 'frame05263', 'steering': array(573.)}, {'image_name': 'frame16813', 'steering': array(144.)}, {'image_name': 'frame14275', 'steering': array(379.)}]\n"
     ]
    },
    {
     "name": "stderr",
     "output_type": "stream",
     "text": [
      "\n"
     ]
    }
   ],
   "source": [
    "base_dir = '../data/gray_80_80_annotated/'\n",
    "image_dir = base_dir + 'images/'\n",
    "anno_dir  = base_dir + 'annotations/'\n",
    "all_data = get_data_point_names(image_dir, anno_dir, count=None)\n",
    "print(all_data[0:10])"
   ]
  },
  {
   "cell_type": "markdown",
   "metadata": {},
   "source": [
    "\n",
    "Next, because we want to perform some stats we need to separate the annotations into their own np.array"
   ]
  },
  {
   "cell_type": "code",
   "execution_count": 13,
   "metadata": {},
   "outputs": [],
   "source": [
    "annos = list()\n",
    "for ele in all_data:\n",
    "    annos.append(ele[\"steering\"])"
   ]
  },
  {
   "cell_type": "markdown",
   "metadata": {},
   "source": [
    "Next we run do some stats to see if we have any biases in the data"
   ]
  },
  {
   "cell_type": "code",
   "execution_count": 14,
   "metadata": {},
   "outputs": [
    {
     "name": "stdout",
     "output_type": "stream",
     "text": [
      "mean: 487.3090018185492\n",
      "median: 449.0\n",
      "mode: ModeResult(mode=array([1021.]), count=array([1394]))\n",
      "var: 68200.9063869406\n",
      "std: 261.1530325057333\n"
     ]
    },
    {
     "data": {
      "text/plain": [
       "[-10, 1024, 0, 200]"
      ]
     },
     "execution_count": 14,
     "metadata": {},
     "output_type": "execute_result"
    },
    {
     "data": {
      "image/png": "[encoded data removed]",
      "text/plain": [
       "<Figure size 432x288 with 1 Axes>"
      ]
     },
     "metadata": {},
     "output_type": "display_data"
    }
   ],
   "source": [
    "print(\"mean: {}\".format(np.mean(annos)))\n",
    "print(\"median: {}\".format(np.median(annos)))\n",
    "print(\"mode: {}\".format(stats.mode(annos)))\n",
    "print(\"var: {}\".format(np.var(annos)))\n",
    "print(\"std: {}\".format(np.std(annos)))\n",
    "plt.hist(annos, 1024)\n",
    "plt.axis([-10, 1024, 0, 200])"
   ]
  },
  {
   "cell_type": "markdown",
   "metadata": {},
   "source": [
    "If there is a definate bias in your data then we'll need to even it out. The code below compiles a dictionary with each key being a steering value (eg: 0-1023) and the value being a list of the corriponding image name. We will use this to select up to `max_count` number of images associated with a given value.\n",
    "\n",
    "```\n",
    "# eg:\n",
    "evened_annos = {200: [frame01, frame20, frame04], \n",
    "                201: [frame03, frame07]...so on}\n",
    "```"
   ]
  },
  {
   "cell_type": "code",
   "execution_count": 71,
   "metadata": {},
   "outputs": [],
   "source": [
    "evened_annos = {}\n",
    "for ele in all_data:\n",
    "    name = ele['image_name']\n",
    "    a    = ele['steering']\n",
    "    if int(a) not in evened_annos.keys():\n",
    "        evened_annos[int(a)] = [name,]\n",
    "    else:\n",
    "        evened_annos[int(a)].append(name)"
   ]
  },
  {
   "cell_type": "markdown",
   "metadata": {},
   "source": [
    "Here we only select `max_count` from each `key`"
   ]
  },
  {
   "cell_type": "code",
   "execution_count": 72,
   "metadata": {},
   "outputs": [
    {
     "name": "stdout",
     "output_type": "stream",
     "text": [
      "['frame04371', 'frame17830', 'frame05167', 'frame10214', 'frame04367', 'frame16111', 'frame17832', 'frame12574', 'frame05168', 'frame17833', 'frame10218', 'frame05169', 'frame04369', 'frame04375', 'frame02210', 'frame02215', 'frame16112', 'frame02209', 'frame04370', 'frame17827', 'frame16114', 'frame04364', 'frame05171', 'frame16107', 'frame02208', 'frame02214', 'frame12573', 'frame02213', 'frame04368', 'frame02207', 'frame10216', 'frame17831', 'frame16113', 'frame12575', 'frame17834', 'frame10215', 'frame16106', 'frame17829', 'frame12576', 'frame04374', 'frame16109', 'frame04373', 'frame12572', 'frame02212', 'frame05170', 'frame16110', 'frame04372', 'frame16108', 'frame05172', 'frame17828', 'frame10213', 'frame12577', 'frame17835', 'frame04366', 'frame10217', 'frame04365', 'frame02211']\n"
     ]
    }
   ],
   "source": [
    "print(evened_annos[400])"
   ]
  },
  {
   "cell_type": "code",
   "execution_count": 73,
   "metadata": {},
   "outputs": [],
   "source": [
    "max_count = 20\n",
    "for key in evened_annos.keys():\n",
    "    np.random.shuffle(evened_annos[key])\n",
    "    if len(evened_annos[key]) > max_count:\n",
    "        evened_annos[key] = evened_annos[key][:max_count]"
   ]
  },
  {
   "cell_type": "markdown",
   "metadata": {},
   "source": [
    "Now we re-run our stats"
   ]
  },
  {
   "cell_type": "code",
   "execution_count": 75,
   "metadata": {},
   "outputs": [],
   "source": [
    "steer = []\n",
    "images = []\n",
    "for key in evened_annos.keys():\n",
    "    for im in evened_annos[key]:\n",
    "        steer.append(key)\n",
    "        images.append(im)"
   ]
  },
  {
   "cell_type": "code",
   "execution_count": 76,
   "metadata": {},
   "outputs": [
    {
     "name": "stdout",
     "output_type": "stream",
     "text": [
      "count: 10170\n",
      "mean: 500.39567354965584\n",
      "median: 478.0\n",
      "mode: ModeResult(mode=array([3]), count=array([20]))\n",
      "var: 57039.67530084919\n",
      "std: 238.82980404641543\n"
     ]
    },
    {
     "data": {
      "text/plain": [
       "[-10, 1024, 0, 60]"
      ]
     },
     "execution_count": 76,
     "metadata": {},
     "output_type": "execute_result"
    },
    {
     "data": {
      "image/png": "[encoded data removed]",
      "text/plain": [
       "<Figure size 432x288 with 1 Axes>"
      ]
     },
     "metadata": {},
     "output_type": "display_data"
    }
   ],
   "source": [
    "test = np.asarray(steer)\n",
    "print(\"count: {}\".format(len(test)))\n",
    "print(\"mean: {}\".format(np.mean(test)))\n",
    "print(\"median: {}\".format(np.median(test)))\n",
    "print(\"mode: {}\".format(stats.mode(test)))\n",
    "print(\"var: {}\".format(np.var(test)))\n",
    "print(\"std: {}\".format(np.std(test)))\n",
    "plt.hist(test, 1024)\n",
    "plt.axis([-10, 1024, 0, 60])"
   ]
  },
  {
   "cell_type": "markdown",
   "metadata": {},
   "source": [
    "Finally we split into training and test sets then write to file"
   ]
  },
  {
   "cell_type": "code",
   "execution_count": 80,
   "metadata": {},
   "outputs": [],
   "source": [
    "import os\n",
    "\n",
    "training_frac = 0.8\n",
    "rand_idxs = np.array(list(range(len(images))))\n",
    "np.random.shuffle(rand_idxs)\n",
    "train_path = \"../data/evened_train.txt\"\n",
    "test_path = \"../data/evened_test.txt\"\n",
    "for idx in rand_idxs:\n",
    "    path = train_path\n",
    "    if np.random.rand() > training_frac:\n",
    "        path = test_path\n",
    "    n = images[idx]\n",
    "    s = steer[idx]\n",
    "    with open(path, 'a') as file:\n",
    "        file.write(\"{}, {}\\n\".format(n,s))"
   ]
  },
  {
   "cell_type": "code",
   "execution_count": null,
   "metadata": {},
   "outputs": [],
   "source": []
  }
 ],
 "metadata": {
  "kernelspec": {
   "display_name": "Python [conda env:py3_tf16]",
   "language": "python",
   "name": "conda-env-py3_tf16-py"
  },
  "language_info": {
   "codemirror_mode": {
    "name": "ipython",
    "version": 3
   },
   "file_extension": ".py",
   "mimetype": "text/x-python",
   "name": "python",
   "nbconvert_exporter": "python",
   "pygments_lexer": "ipython3",
   "version": "3.6.4"
  }
 },
 "nbformat": 4,
 "nbformat_minor": 2
}
