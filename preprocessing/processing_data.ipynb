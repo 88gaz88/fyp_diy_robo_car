{
 "cells": [
  {
   "cell_type": "code",
   "execution_count": 1,
   "metadata": {},
   "outputs": [],
   "source": [
    "import sys\n",
    "sys.path.append('..')\n",
    "from utils import *\n",
    "import matplotlib.pyplot as plt\n",
    "import scipy.stats as stats\n",
    "import numpy as np\n",
    "from tqdm import trange, tqdm\n",
    "import os"
   ]
  },
  {
   "cell_type": "markdown",
   "metadata": {},
   "source": [
    "# Create Dirs"
   ]
  },
  {
   "cell_type": "code",
   "execution_count": 2,
   "metadata": {},
   "outputs": [],
   "source": [
    "vid_path = \"../data/videoplayback.mp4\"\n",
    "out_dir  = \"../data/clr_120_160\"\n",
    "image_dir = os.path.join(out_dir, 'images')\n",
    "anno_dir  = os.path.join(out_dir, 'annotations')\n",
    "if not os.path.exists(out_dir):\n",
    "    os.makedirs(out_dir)\n",
    "    os.makedirs(image_dir)\n",
    "    os.makedirs(anno_dir)"
   ]
  },
  {
   "cell_type": "markdown",
   "metadata": {},
   "source": [
    "# Split video and process frames"
   ]
  },
  {
   "cell_type": "code",
   "execution_count": 3,
   "metadata": {},
   "outputs": [
    {
     "name": "stdout",
     "output_type": "stream",
     "text": [
      "Processed 1000 frames.\n",
      "Processed 2000 frames.\n",
      "Processed 3000 frames.\n",
      "Processed 4000 frames.\n",
      "Processed 5000 frames.\n",
      "Processed 6000 frames.\n",
      "Processed 7000 frames.\n",
      "Processed 8000 frames.\n",
      "Processed 9000 frames.\n",
      "Processed 10000 frames.\n",
      "Processed 11000 frames.\n",
      "Processed 12000 frames.\n",
      "Processed 13000 frames.\n",
      "Processed 14000 frames.\n",
      "Processed 15000 frames.\n",
      "Processed 16000 frames.\n",
      "Processed 17000 frames.\n",
      "Processed 18000 frames.\n",
      "Processed 19000 frames.\n",
      "You Little Rippa!!!!!!!\n"
     ]
    }
   ],
   "source": [
    "from split_encoded_video import split_video_and_process_frames\n",
    "\n",
    "out_w = 160\n",
    "out_h = 120\n",
    "to_gray = False\n",
    "split_video_and_process_frames(vid_path, out_dir, out_w, out_h, to_gray)"
   ]
  },
  {
   "cell_type": "markdown",
   "metadata": {},
   "source": [
    "Get a list of all the images in the `base_dir/images` directory. We also make sure each **image** has an associated **annotation**. We then just combine both train and test "
   ]
  },
  {
   "cell_type": "code",
   "execution_count": 3,
   "metadata": {},
   "outputs": [
    {
     "name": "stderr",
     "output_type": "stream",
     "text": [
      "  2%|▏         | 365/19796 [00:00<00:05, 3642.08it/s]"
     ]
    },
    {
     "name": "stdout",
     "output_type": "stream",
     "text": [
      "Importing images and annotations.\n"
     ]
    },
    {
     "name": "stderr",
     "output_type": "stream",
     "text": [
      "100%|██████████| 19796/19796 [00:03<00:00, 5249.04it/s]\n"
     ]
    }
   ],
   "source": [
    "all_data = get_data_point_names_sequnetial(anno_dir, count=None)"
   ]
  },
  {
   "cell_type": "code",
   "execution_count": 4,
   "metadata": {},
   "outputs": [
    {
     "name": "stdout",
     "output_type": "stream",
     "text": [
      "{'image': 'frame000000', 'throttle': 510, 'steering': 447}\n"
     ]
    }
   ],
   "source": [
    "print(all_data[0])"
   ]
  },
  {
   "cell_type": "markdown",
   "metadata": {},
   "source": [
    "# Save file of each image name in sequential order\n",
    "Create a file containing every datapoint and annotation, in sequential order. This will be used for visualizing parformance once the model has been trained."
   ]
  },
  {
   "cell_type": "code",
   "execution_count": 5,
   "metadata": {},
   "outputs": [],
   "source": [
    "# import os\n",
    "\n",
    "# data_path = \"../data/all_data_sequential.txt\"\n",
    "# for ele in all_data:\n",
    "#     n = ele['image_name']\n",
    "#     s = int(ele['steering'])\n",
    "#     with open(data_path, 'a') as file:\n",
    "#         file.write(\"{}, {}\\n\".format(n,s))\n"
   ]
  },
  {
   "cell_type": "markdown",
   "metadata": {},
   "source": [
    "Next, because we want to perform some stats we need to separate the annotations into their own np.array"
   ]
  },
  {
   "cell_type": "code",
   "execution_count": 6,
   "metadata": {},
   "outputs": [],
   "source": [
    "annos = list()\n",
    "for ele in all_data:\n",
    "    annos.append(ele[\"steering\"])"
   ]
  },
  {
   "cell_type": "markdown",
   "metadata": {},
   "source": [
    "Next we run do some stats to see if we have any biases in the data"
   ]
  },
  {
   "cell_type": "code",
   "execution_count": 7,
   "metadata": {},
   "outputs": [
    {
     "name": "stdout",
     "output_type": "stream",
     "text": [
      "mean: 487.3090523338048\n",
      "median: 449.0\n",
      "mode: ModeResult(mode=array([1021]), count=array([1394]))\n",
      "var: 68200.89680833611\n",
      "std: 261.1530141666684\n"
     ]
    },
    {
     "data": {
      "text/plain": [
       "[-10, 1024, 0, 200]"
      ]
     },
     "execution_count": 7,
     "metadata": {},
     "output_type": "execute_result"
    },
    {
     "data": {
      "image/png": "[encoded data removed]",
      "text/plain": [
       "<Figure size 432x288 with 1 Axes>"
      ]
     },
     "metadata": {},
     "output_type": "display_data"
    }
   ],
   "source": [
    "print(\"mean: {}\".format(np.mean(annos)))\n",
    "print(\"median: {}\".format(np.median(annos)))\n",
    "print(\"mode: {}\".format(stats.mode(annos)))\n",
    "print(\"var: {}\".format(np.var(annos)))\n",
    "print(\"std: {}\".format(np.std(annos)))\n",
    "plt.hist(annos, 1024)\n",
    "plt.axis([-10, 1024, 0, 200])"
   ]
  },
  {
   "cell_type": "markdown",
   "metadata": {},
   "source": [
    "If there is a definate bias in your data then we'll need to even it out. The code below compiles a dictionary with each key being a steering value (eg: 0-1023) and the value being a list of the corriponding image name. We will use this to select up to `max_count` number of images associated with a given value.\n",
    "\n",
    "```\n",
    "# eg:\n",
    "evened_annos = {200: [frame01, frame20, frame04], \n",
    "                201: [frame03, frame07]...so on}\n",
    "```"
   ]
  },
  {
   "cell_type": "code",
   "execution_count": 9,
   "metadata": {},
   "outputs": [],
   "source": [
    "_annos = {}\n",
    "for ele in all_data:\n",
    "    i = ele['image']\n",
    "    s = ele['steering']\n",
    "    if int(s) not in _annos.keys():\n",
    "        _annos[int(s)] = [i,]\n",
    "    else:\n",
    "        _annos[int(s)].append(i)"
   ]
  },
  {
   "cell_type": "markdown",
   "metadata": {},
   "source": [
    "Here we only select `max_count` from each `key`"
   ]
  },
  {
   "cell_type": "code",
   "execution_count": 10,
   "metadata": {},
   "outputs": [],
   "source": [
    "max_count = 20\n",
    "for key in _annos.keys():\n",
    "    np.random.shuffle(_annos[key])\n",
    "    if len(_annos[key]) > max_count:\n",
    "        _annos[key] = _annos[key][:max_count]"
   ]
  },
  {
   "cell_type": "markdown",
   "metadata": {},
   "source": [
    "Now we re-run our stats"
   ]
  },
  {
   "cell_type": "code",
   "execution_count": 24,
   "metadata": {},
   "outputs": [],
   "source": [
    "image_names = []\n",
    "for ele in _annos.keys():\n",
    "    for image in _annos[ele]:\n",
    "        image_names.append(image)\n",
    "\n",
    "evened_annos = []\n",
    "for name in image_names:\n",
    "    evened_annos.append(load_anno(os.path.join(anno_dir, f\"{name}.json\")))\n",
    "# for s in evened_annos.keys():\n",
    "#     print(evened_annos[s])\n",
    "#     for i in evened_annos[s]:\n",
    "#         steer.append(s)\n",
    "#         images.append(i)\n",
    "#         throt.append(t)\n"
   ]
  },
  {
   "cell_type": "code",
   "execution_count": 26,
   "metadata": {},
   "outputs": [
    {
     "name": "stdout",
     "output_type": "stream",
     "text": [
      "count: 10170\n",
      "mean: 500.39567354965584\n",
      "median: 478.0\n",
      "mode: ModeResult(mode=array([3]), count=array([20]))\n",
      "var: 57039.67530084917\n",
      "std: 238.82980404641538\n"
     ]
    },
    {
     "data": {
      "text/plain": [
       "[-10, 1024, 0, 60]"
      ]
     },
     "execution_count": 26,
     "metadata": {},
     "output_type": "execute_result"
    },
    {
     "data": {
      "image/png": "[encoded data removed]",
      "text/plain": [
       "<Figure size 432x288 with 1 Axes>"
      ]
     },
     "metadata": {},
     "output_type": "display_data"
    }
   ],
   "source": [
    "test = list()\n",
    "for ele in evened_annos:\n",
    "    test.append(ele[\"steering\"])\n",
    "print(\"count: {}\".format(len(test)))\n",
    "print(\"mean: {}\".format(np.mean(test)))\n",
    "print(\"median: {}\".format(np.median(test)))\n",
    "print(\"mode: {}\".format(stats.mode(test)))\n",
    "print(\"var: {}\".format(np.var(test)))\n",
    "print(\"std: {}\".format(np.std(test)))\n",
    "plt.hist(test, 1024)\n",
    "plt.axis([-10, 1024, 0, 60])"
   ]
  },
  {
   "cell_type": "markdown",
   "metadata": {},
   "source": [
    "Finally we shuffle the data, split into training and test sets then write to file"
   ]
  },
  {
   "cell_type": "code",
   "execution_count": 34,
   "metadata": {},
   "outputs": [],
   "source": [
    "import os\n",
    "\n",
    "training_frac = 0.8\n",
    "rand_idxs = np.array(list(range(len(evened_annos))))\n",
    "np.random.shuffle(rand_idxs)\n",
    "train = {\"data\" : []}\n",
    "test  = {\"data\" : []}\n",
    "train_path = \"../data/evened_train.txt\"\n",
    "test_path = \"../data/evened_test.txt\"\n",
    "\n",
    "assert not os.path.exists(train_path), \"train_path exists, you'll need to delete it before trying again.\"\n",
    "assert not os.path.exists(test_path),  \"test_path exists, you'll need to delete it before trying again.\"\n",
    "\n",
    "\n",
    "for idx in rand_idxs:\n",
    "    path = train_path\n",
    "    if np.random.rand() > training_frac:\n",
    "        path = test_path\n",
    "    with open(path, 'a') as f:\n",
    "        image_name = evened_annos[idx][\"image\"] \n",
    "        f.write(f\"{image_name}\\n\")"
   ]
  },
  {
   "cell_type": "code",
   "execution_count": null,
   "metadata": {},
   "outputs": [],
   "source": []
  }
 ],
 "metadata": {
  "kernelspec": {
   "display_name": "Python [conda env:py3_tf16]",
   "language": "python",
   "name": "conda-env-py3_tf16-py"
  },
  "language_info": {
   "codemirror_mode": {
    "name": "ipython",
    "version": 3
   },
   "file_extension": ".py",
   "mimetype": "text/x-python",
   "name": "python",
   "nbconvert_exporter": "python",
   "pygments_lexer": "ipython3",
   "version": "3.6.4"
  }
 },
 "nbformat": 4,
 "nbformat_minor": 2
}
