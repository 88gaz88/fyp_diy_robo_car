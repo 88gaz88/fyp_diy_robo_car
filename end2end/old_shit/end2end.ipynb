{
 "cells": [
  {
   "cell_type": "code",
   "execution_count": 1,
   "metadata": {},
   "outputs": [
    {
     "name": "stderr",
     "output_type": "stream",
     "text": [
      "/home/jp/anaconda3/envs/conv-vae/lib/python3.6/site-packages/h5py/__init__.py:36: FutureWarning: Conversion of the second argument of issubdtype from `float` to `np.floating` is deprecated. In future, it will be treated as `np.float64 == np.dtype(float).type`.\n",
      "  from ._conv import register_converters as _register_converters\n",
      "Using TensorFlow backend.\n"
     ]
    }
   ],
   "source": [
    "%matplotlib inline\n",
    "from IPython.display import clear_output\n",
    "from utils import *         # Holds some helper functions to help with loading images etc\n",
    "import numpy as np\n",
    "import matplotlib.pyplot as plt\n",
    "from random import choice\n",
    "# import matplotlib\n",
    "from matplotlib.image import BboxImage\n",
    "from matplotlib.transforms import Bbox, TransformedBbox\n",
    "# import matplotlib.image as matimg\n",
    "from skimage.transform import resize\n",
    "from PIL import Image\n",
    "#from scipy.misc import imresize, toimage\n",
    "import os\n",
    "# import cv2\n",
    "from scipy.stats import norm\n",
    "import glob\n",
    "# from mouseinput import LatentSpaceWalker\n",
    "\n",
    "from keras.layers import Dense, Lambda, Flatten, Reshape, Dropout\n",
    "from keras.layers import Conv2DTranspose, Input\n",
    "#from keras.engine.topology import Input\n",
    "from keras.layers.convolutional import Conv2D\n",
    "from keras.models import Model\n",
    "from keras import optimizers\n",
    "from keras import backend as K\n",
    "from keras import objectives\n",
    "from keras.callbacks import ModelCheckpoint as SaveModelCallback\n",
    "from keras.utils import to_categorical"
   ]
  },
  {
   "cell_type": "markdown",
   "metadata": {},
   "source": [
    "### Load Images and plot some examples"
   ]
  },
  {
   "cell_type": "code",
   "execution_count": 2,
   "metadata": {},
   "outputs": [],
   "source": [
    "base_dir = '../data/gray_80_80_annotated/'\n",
    "image_dir = base_dir + 'images/'\n",
    "anno_dir  = base_dir + 'annotations/'\n",
    "train_names, test_names = get_data_point_names(image_dir, anno_dir)\n",
    "\n",
    "# x_train = rgb2gray(x_train_clr)\n",
    "# x_test= rgb2gray(x_test_clr)\n",
    "# # x_train = x_train_clr\n",
    "# # x_test  = x_test_clr\n",
    "\n",
    "# def PlotExampleImages(data, num_examples=10):\n",
    "#     plt.figure(1)\n",
    "#     # plt.figure(figsize=(10,1))\n",
    "#     for i in range(num_examples):\n",
    "#         r = 1\n",
    "#         c = num_examples\n",
    "#         ax = plt.subplot(r, c, i+1)\n",
    "#         to_plot = choice(data)\n",
    "#         if np.shape(to_plot)[2] == 1:              # only 1 color channel, therefore gray scale\n",
    "#             to_plot = choice(data[:,:,:,0])\n",
    "#             plt.imshow(to_plot,cmap = plt.get_cmap('gray'))\n",
    "#         else:\n",
    "#             plt.imshow(choice(data))\n",
    "            \n",
    "#         ax.get_xaxis().set_visible(False)\n",
    "#         ax.get_yaxis().set_visible(False)\n",
    "        \n",
    "# PlotExampleImages(x_train)"
   ]
  },
  {
   "cell_type": "markdown",
   "metadata": {},
   "source": [
    "### House keeping"
   ]
  },
  {
   "cell_type": "code",
   "execution_count": 3,
   "metadata": {},
   "outputs": [],
   "source": [
    "def norm_data(images):\n",
    "    result = images.astype('float32') / 255.\n",
    "    return result\n",
    "\n",
    "def pre_process_annos(annos):\n",
    "    # Maps from (0 to 1024) to (-1 to +1)\n",
    "    processed = []\n",
    "    for an in annos:\n",
    "        proc_anno = np.array(an['steering'])\n",
    "#         print(\"an: {}\".format(proc_anno))\n",
    "        processed.append( [((proc_anno / 1024.) - 0) * 1.])\n",
    "    return np.array(processed)\n",
    "\n",
    "def pre_process(images, annos):\n",
    "    '''\n",
    "    Mirror randomly, add some noise, pick up milk.\n",
    "    '''\n",
    "    _annos = pre_process_annos(annos)\n",
    "    proc_annos = []\n",
    "    proc_images = []\n",
    "    for i,a in zip(images, _annos):\n",
    "        if random.uniform(0.,1.) < 0.5:\n",
    "            i = np.flip(i, 1)\n",
    "            a *= -1.\n",
    "        \n",
    "        # Bin the steering angles\n",
    "        if   a < -0.2: \n",
    "            a = 0\n",
    "        elif a >  0.2: \n",
    "            a = 2\n",
    "        else:\n",
    "            a = 1\n",
    "        proc_annos.append(a)\n",
    "        proc_images.append(i)\n",
    "        \n",
    "    proc_images = np.array(proc_images)\n",
    "    proc_images = np.expand_dims(proc_images, axis=3)\n",
    "    return proc_images, proc_annos\n",
    "\n",
    "# from keras.utils import Sequence\n",
    "class DataGenerator():\n",
    "    \n",
    "    def __init__(self, batch_size, data_names, image_dir, anno_dir, debug=None):\n",
    "        np.random.shuffle(data_names)\n",
    "        to_remove = len(data_names) % batch_size\n",
    "        _names = data_names\n",
    "        if to_remove != 0:\n",
    "            _names = data_names[:-to_remove]\n",
    "            print(\"Warning! number of training samples ({}) is not divisable \\\n",
    "                   by batch_size ({})\".format(len(data_names), batch_size))\n",
    "            print(\"Removing {} samples from data set.\".format(to_remove))\n",
    "            print(\"UPDATED: shape: {}\".format(np.shape(_names)))\n",
    "        \n",
    "        self.data_names      = _names\n",
    "        self.batch_size      = batch_size\n",
    "        self.image_dir       = image_dir\n",
    "        self.anno_dir        = anno_dir\n",
    "        self.steps_per_epoch = len(self.data_names) // self.batch_size\n",
    "        self.current_step    = 0\n",
    "        self.debug           = debug\n",
    "        \n",
    "    def out_of_data(self):\n",
    "        return self.current_step >= self.steps_per_epoch\n",
    "    \n",
    "    def steps_per_epoch(self):\n",
    "        return self.steps_per_epoch\n",
    "    \n",
    "    def get_next_batch(self):\n",
    "        #print(\"step {} of {}\".format(self.current_step, self.steps_per_epoch))\n",
    "        if self.current_step == self.steps_per_epoch:\n",
    "            print(\"Data source exhausted, re-init DataGenerator\")\n",
    "            return None, None\n",
    "        \n",
    "        i = self.current_step * self.batch_size\n",
    "        im_paths = []\n",
    "        an_paths = []\n",
    "        for ele in range(self.batch_size):\n",
    "            name = self.data_names[i+ele]\n",
    "            im_paths.append(image_dir + name + \".jpg\")\n",
    "            an_paths.append(anno_dir  + name + \".txt\")\n",
    "        \n",
    "        images, annos = load_samples(im_paths, an_paths)\n",
    "        \n",
    "#         DEBUG\n",
    "#         w = np.ones((80,40)) * 255.\n",
    "#         b = np.zeros((80,40))\n",
    "#         bw = np.concatenate((w,b), axis=1)\n",
    "#         images = [bw,]*batch_size\n",
    "#         annos = [{'steering': 1.}]*batch_size\n",
    "        \n",
    "        proc_images, proc_annos = pre_process(images, annos)\n",
    "        #print(np.shape(proc_images))\n",
    "        \n",
    "        self.current_step += 1\n",
    "        return proc_images, proc_annos\n",
    "\n"
   ]
  },
  {
   "cell_type": "code",
   "execution_count": 4,
   "metadata": {},
   "outputs": [],
   "source": [
    "my_data=DataGenerator(10, train_names[:50], image_dir, anno_dir)"
   ]
  },
  {
   "cell_type": "code",
   "execution_count": 5,
   "metadata": {},
   "outputs": [
    {
     "name": "stdout",
     "output_type": "stream",
     "text": [
      "len:  10\n",
      "shape: (80, 80, 1)\n",
      "shape: (80, 80, 1)\n",
      "shape: (80, 80, 1)\n",
      "shape: (80, 80, 1)\n",
      "shape: (80, 80, 1)\n",
      "shape: (80, 80, 1)\n",
      "shape: (80, 80, 1)\n",
      "shape: (80, 80, 1)\n",
      "shape: (80, 80, 1)\n",
      "shape: (80, 80, 1)\n"
     ]
    },
    {
     "data": {
      "image/png": "[encoded data removed]",
      "text/plain": [
       "<matplotlib.figure.Figure at 0x7f6bede14eb8>"
      ]
     },
     "metadata": {},
     "output_type": "display_data"
    }
   ],
   "source": [
    "images, annos = my_data.get_next_batch()\n",
    "print(\"len: \", len(annos))\n",
    "for i, (im, an) in enumerate(zip(images, annos)):\n",
    "    plot = i+1\n",
    "    plt.subplot(2,5,plot)\n",
    "    print(\"shape: {}\".format(np.shape(im)))\n",
    "    plt.imshow(im[:,:,0])\n",
    "    plt.axis('off')\n",
    "    # Covert to +- 100% for hard left or hard right \n",
    "    angle = an\n",
    "    plt.title(\"{:2f}\".format(angle))"
   ]
  },
  {
   "cell_type": "markdown",
   "metadata": {},
   "source": [
    "\n",
    "### Some hyperparams"
   ]
  },
  {
   "cell_type": "code",
   "execution_count": 6,
   "metadata": {
    "collapsed": true
   },
   "outputs": [],
   "source": [
    "epochs           = 5\n",
    "input_shape      = (80,80,1)\n",
    "num_chans        = 1\n",
    "batch_size       = 50\n",
    "\n",
    "input_dim        = np.prod(input_shape)  # flattened size of input_image\n",
    "intermediate_dim = 255\n",
    "intermediate_dim = 50\n",
    "out_dim          = 3\n",
    "learning_rate    = 0.001\n",
    "optimizer        = optimizers.Adam(lr=learning_rate)  \n",
    "\n",
    "# for more optimizers (https://keras.io/optimizers/)"
   ]
  },
  {
   "cell_type": "markdown",
   "metadata": {},
   "source": [
    "### Defining the model"
   ]
  },
  {
   "cell_type": "code",
   "execution_count": 7,
   "metadata": {
    "collapsed": true
   },
   "outputs": [],
   "source": [
    "# building model (using keras syntax)\n",
    "# ENCODER\n",
    "# model = Sequential()\n",
    "# model.add(Conv2D(8, (3,3),\n",
    "#                      activation='relu',\n",
    "#                      input_shape=input_shape,\n",
    "#                      border_mode='same')\n",
    "enc_input = Input(input_shape)\n",
    "enc_conv_1  = Conv2D(16, kernel_size=(3,3),\n",
    "                     activation='relu',\n",
    "                     padding='same')(enc_input) \n",
    "enc_conv_2  = Conv2D(32, kernel_size=(2,2), strides=(2,2),\n",
    "                     activation='relu',\n",
    "                     padding='same')(enc_conv_1) \n",
    "enc_conv_3  = Conv2D(64, kernel_size=(2,2), strides=(2,2),\n",
    "                     activation='relu',\n",
    "                     padding='same')(enc_conv_2) \n",
    "#see kernel initializers\n",
    "# enc_conv_2  = Conv2d(16, (2,2), strides=(2,2), activation='relu')(enc_conv_1)\n",
    "enc_flat = Flatten()(enc_conv_3)\n",
    "enc_fc1  = Dense(intermediate_dim, activation='relu')(enc_flat)\n",
    "dr_1     = Dropout(0.25)(enc_fc1)\n",
    "enc_fc2  = Dense(intermediate_dim, activation='relu')(dr_1)\n",
    "dr_2     = Dropout(0.5)(enc_fc2)\n",
    "output   = Dense(out_dim, activation='softmax')(dr_2)\n",
    "driver   = Model(enc_input, output)\n",
    "driver.compile(optimizer=optimizer,\n",
    "               loss='categorical_crossentropy',\n",
    "               metrics=['accuracy'])"
   ]
  },
  {
   "cell_type": "code",
   "execution_count": 8,
   "metadata": {},
   "outputs": [],
   "source": [
    "def Train(model, epochs, batch_size, train_names, test_names, image_dir, anno_dir):\n",
    "    loss_plot = []\n",
    "    model.reset_states()\n",
    "    for e in range(epochs):\n",
    "        train_gen = DataGenerator(batch_size, train_names, image_dir, anno_dir)\n",
    "        test_gen  = DataGenerator(batch_size, test_names, image_dir, anno_dir)\n",
    "        print(\"\\nEPOCH: {}\\n-----Train-----\".format(e))\n",
    "        \n",
    "        count = 0\n",
    "        while not train_gen.out_of_data():\n",
    "            x,y, = train_gen.get_next_batch()\n",
    "            y = to_categorical(y)\n",
    "            loss = model.fit(x,y,batch_size,verbose=0)\n",
    "            loss = loss.history['loss']\n",
    "            count += 1\n",
    "            loss_plot.append(loss)\n",
    "            if count%50 == 0:\n",
    "                print(\"Step: {}, loss: {}\".format(count, loss))\n",
    "#                 plt.subplot(111)\n",
    "#                 plt.plot(loss_plot)\n",
    "#                 plt.show()\n",
    "            \n",
    "        print(\"-----EVAL-----\")\n",
    "        loss = []\n",
    "        accur = []\n",
    "        while not test_gen.out_of_data():\n",
    "            x,y, = test_gen.get_next_batch()\n",
    "            y = to_categorical(y)\n",
    "            l,a = model.evaluate(x,y,batch_size, verbose=0)\n",
    "            loss.append(l)\n",
    "            accur.append(a)\n",
    "            \n",
    "        print(\"-----Results-----\")\n",
    "        print(\"loss: {}, accur: {}\".format(np.mean(loss), np.mean(accur)))\n",
    "        "
   ]
  },
  {
   "cell_type": "code",
   "execution_count": 9,
   "metadata": {},
   "outputs": [
    {
     "name": "stdout",
     "output_type": "stream",
     "text": [
      "Warning! number of training samples (13857) is not divisable                    by batch_size (50)\n",
      "Removing 7 samples from data set.\n",
      "UPDATED: shape: (13850,)\n",
      "Warning! number of training samples (5940) is not divisable                    by batch_size (50)\n",
      "Removing 40 samples from data set.\n",
      "UPDATED: shape: (5900,)\n",
      "\n",
      "EPOCH: 0\n",
      "-----Train-----\n",
      "Step: 50, loss: [0.8660781979560852]\n",
      "Step: 100, loss: [0.7059746384620667]\n",
      "Step: 150, loss: [0.5013620257377625]\n",
      "Step: 200, loss: [0.5966421365737915]\n",
      "Step: 250, loss: [0.41961297392845154]\n",
      "-----EVAL-----\n",
      "-----Results-----\n",
      "loss: 0.3191561936321905, accur: 0.8574576206126455\n",
      "Warning! number of training samples (13857) is not divisable                    by batch_size (50)\n",
      "Removing 7 samples from data set.\n",
      "UPDATED: shape: (13850,)\n",
      "Warning! number of training samples (5940) is not divisable                    by batch_size (50)\n",
      "Removing 40 samples from data set.\n",
      "UPDATED: shape: (5900,)\n",
      "\n",
      "EPOCH: 1\n",
      "-----Train-----\n",
      "Step: 50, loss: [0.26960963010787964]\n",
      "Step: 100, loss: [0.3282621502876282]\n",
      "Step: 150, loss: [0.29064470529556274]\n",
      "Step: 200, loss: [0.45745933055877686]\n",
      "Step: 250, loss: [0.2804183065891266]\n",
      "-----EVAL-----\n",
      "-----Results-----\n",
      "loss: 0.23647072020981272, accur: 0.9035593185384395\n",
      "Warning! number of training samples (13857) is not divisable                    by batch_size (50)\n",
      "Removing 7 samples from data set.\n",
      "UPDATED: shape: (13850,)\n",
      "Warning! number of training samples (5940) is not divisable                    by batch_size (50)\n",
      "Removing 40 samples from data set.\n",
      "UPDATED: shape: (5900,)\n",
      "\n",
      "EPOCH: 2\n",
      "-----Train-----\n",
      "Step: 50, loss: [0.22663623094558716]\n",
      "Step: 100, loss: [0.22072410583496094]\n",
      "Step: 150, loss: [0.3959284722805023]\n",
      "Step: 200, loss: [0.3303271532058716]\n",
      "Step: 250, loss: [0.1509084701538086]\n",
      "-----EVAL-----\n",
      "-----Results-----\n",
      "loss: 0.1812851985884925, accur: 0.9183050798157514\n",
      "Warning! number of training samples (13857) is not divisable                    by batch_size (50)\n",
      "Removing 7 samples from data set.\n",
      "UPDATED: shape: (13850,)\n",
      "Warning! number of training samples (5940) is not divisable                    by batch_size (50)\n",
      "Removing 40 samples from data set.\n",
      "UPDATED: shape: (5900,)\n",
      "\n",
      "EPOCH: 3\n",
      "-----Train-----\n",
      "Step: 50, loss: [0.24376234412193298]\n",
      "Step: 100, loss: [0.21598099172115326]\n",
      "Step: 150, loss: [0.17776474356651306]\n",
      "Step: 200, loss: [0.1372477263212204]\n",
      "Step: 250, loss: [0.21602626144886017]\n",
      "-----EVAL-----\n",
      "-----Results-----\n",
      "loss: 0.12820159467095035, accur: 0.9498305073228933\n",
      "Warning! number of training samples (13857) is not divisable                    by batch_size (50)\n",
      "Removing 7 samples from data set.\n",
      "UPDATED: shape: (13850,)\n",
      "Warning! number of training samples (5940) is not divisable                    by batch_size (50)\n",
      "Removing 40 samples from data set.\n",
      "UPDATED: shape: (5900,)\n",
      "\n",
      "EPOCH: 4\n",
      "-----Train-----\n",
      "Step: 50, loss: [0.19604474306106567]\n",
      "Step: 100, loss: [0.14847604930400848]\n",
      "Step: 150, loss: [0.11094815284013748]\n",
      "Step: 200, loss: [0.10066734254360199]\n",
      "Step: 250, loss: [0.16525042057037354]\n",
      "-----EVAL-----\n",
      "-----Results-----\n",
      "loss: 0.10986654798231893, accur: 0.9528813513658815\n"
     ]
    }
   ],
   "source": [
    "checkpoint_path = \"./testpoint\"\n",
    "\n",
    "'''\n",
    "fit_generator(self, generator, steps_per_epoch=None, \n",
    "epochs=1, verbose=1, callbacks=None, validation_data=None, \n",
    "validation_steps=None, class_weight=None, max_queue_size=10, \n",
    "workers=1, use_multiprocessing=False, shuffle=True, initial_epoch=0)\n",
    "'''\n",
    "\n",
    "\n",
    "Train(driver,\n",
    "      epochs,\n",
    "      batch_size,\n",
    "      train_names,\n",
    "      test_names,\n",
    "      image_dir,\n",
    "      anno_dir)"
   ]
  },
  {
   "cell_type": "markdown",
   "metadata": {},
   "source": [
    "### Function to encode a list of input images\n"
   ]
  },
  {
   "cell_type": "code",
   "execution_count": 29,
   "metadata": {},
   "outputs": [
    {
     "name": "stdout",
     "output_type": "stream",
     "text": [
      "len:  10\n"
     ]
    },
    {
     "name": "stderr",
     "output_type": "stream",
     "text": [
      "/home/jp/anaconda3/envs/conv-vae/lib/python3.6/site-packages/matplotlib/cbook/deprecation.py:106: MatplotlibDeprecationWarning: Adding an axes using the same arguments as a previous axes currently reuses the earlier instance.  In a future version, a new instance will always be created and returned.  Meanwhile, this warning can be suppressed, and the future behavior ensured, by passing a unique label to each axes instance.\n",
      "  warnings.warn(message, mplDeprecation, stacklevel=1)\n"
     ]
    },
    {
     "data": {
      "text/plain": [
       "(-0.54, 2.5400000000000005, 0.0, 1.05)"
      ]
     },
     "execution_count": 29,
     "metadata": {},
     "output_type": "execute_result"
    },
    {
     "data": {
      "image/png": "[encoded data removed]",
      "text/plain": [
       "<matplotlib.figure.Figure at 0x7f6bee1005f8>"
      ]
     },
     "metadata": {},
     "output_type": "display_data"
    }
   ],
   "source": [
    "my_data=DataGenerator(10, train_names[:50], image_dir, anno_dir)\n",
    "images, annos = my_data.get_next_batch()\n",
    "probs = driver.predict(images)\n",
    "classes = ['L', 'S', 'R']\n",
    "y_pos = np.arange(len(classes))\n",
    "print(\"len: \", len(annos))\n",
    "for i, (im, an, pr) in enumerate(zip(images, annos, probs)):\n",
    "    plot = i+1\n",
    "    plt.subplot(2,10,plot)\n",
    "    plt.imshow(im[:,:,0])\n",
    "    plt.axis('off')\n",
    "    angle = an\n",
    "    plt.title(\"{}\".format(classes[int(angle)]))\n",
    "    \n",
    "    plt.subplot(2,10,plot+10)\n",
    "    plt.bar(y_pos, pr)\n",
    "    plt.xticks(y_pos, classes)\n",
    "    plt.yticks([],[])\n",
    "    pr_max = max(pr)\n",
    "    plt.title(\"{0:.2f}\".format(pr_max))\n",
    "    # Covert to +- 100% for hard left or hard right \n",
    "    \n",
    "plt.subplot(2,10,11)\n",
    "plt.axis('on')"
   ]
  },
  {
   "cell_type": "code",
   "execution_count": null,
   "metadata": {},
   "outputs": [],
   "source": []
  }
 ],
 "metadata": {
  "kernelspec": {
   "display_name": "Python [conda env:conv-vae]",
   "language": "python",
   "name": "conda-env-conv-vae-py"
  },
  "language_info": {
   "codemirror_mode": {
    "name": "ipython",
    "version": 3
   },
   "file_extension": ".py",
   "mimetype": "text/x-python",
   "name": "python",
   "nbconvert_exporter": "python",
   "pygments_lexer": "ipython3",
   "version": "3.6.4"
  }
 },
 "nbformat": 4,
 "nbformat_minor": 2
}
