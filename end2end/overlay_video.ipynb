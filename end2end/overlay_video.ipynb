{
 "cells": [
  {
   "cell_type": "code",
   "execution_count": 2,
   "metadata": {},
   "outputs": [],
   "source": [
    "import cv2\n",
    "import numpy as np\n",
    "from utils import *\n",
    "import csv\n",
    "import tensorflow as tf\n",
    "import matplotlib.pyplot as plt  "
   ]
  },
  {
   "cell_type": "code",
   "execution_count": 3,
   "metadata": {},
   "outputs": [],
   "source": [
    "base_dir      = '../data/gray_80_80_annotated/'\n",
    "image_dir     = base_dir + 'images/'\n",
    "anno_dir      = base_dir + 'annotations/'\n",
    "data_set_path = 'to_make_movie.txt'\n",
    "\n",
    "def load_data(data_set_path, percent_train=1.0, count=None):\n",
    "    '''\n",
    "    Loads image and annotation names and checks that all images have an annotation.\n",
    "    Shuffles names and splits accotding to percent_train (0. -> 1.)\n",
    "    '''\n",
    "    if percent_train > 1.:\n",
    "        print(\"percent_train must be 0 < percent_train < 1. Dividing by 100.\")\n",
    "        percent_train = percent_train/100.\n",
    "        print(\"percent_train now equals: {}\".format(percent_train))\n",
    "    train = []\n",
    "    test  = []\n",
    "    with open(data_set_path, 'r') as data_set:\n",
    "        data_reader = csv.reader(data_set, delimiter=',')\n",
    "        for name, steering in data_reader:\n",
    "            if np.random.uniform() < percent_train:\n",
    "                train.append((name, float(steering)))\n",
    "            else:\n",
    "                test.append((name, float(steering)))\n",
    "    return train, test\n",
    "\n",
    "data, _ = load_data(data_set_path)\n",
    "\n",
    "# This will only work if data is named\n",
    "# with leading zeros\n",
    "# frame001, xxx\n",
    "# frame002, yyy\n",
    "# NOT!!!\n",
    "# frame1, xxx\n",
    "# frame2, yyy\n",
    "data = sorted(data)\n",
    "\n",
    "    "
   ]
  },
  {
   "cell_type": "code",
   "execution_count": 4,
   "metadata": {},
   "outputs": [
    {
     "name": "stdout",
     "output_type": "stream",
     "text": [
      "[('frame00000', 3.000715494155884), ('frame00001', 3.0006003379821777), ('frame00002', 3.0098109245300293), ('frame00003', 2.986175775527954), ('frame00004', 3.023642063140869), ('frame00005', 2.504171848297119), ('frame00006', 2.5259957313537598), ('frame00007', 2.52388334274292), ('frame00008', 2.1410200595855713), ('frame00009', 2.1252408027648926)]\n"
     ]
    }
   ],
   "source": [
    "print(data[:10])\n",
    "\n"
   ]
  },
  {
   "cell_type": "code",
   "execution_count": 17,
   "metadata": {},
   "outputs": [],
   "source": [
    "angle_bin_range = 128.\n",
    "steering_deg_range = 30.\n",
    "count = 0\n",
    "for (img_pth, angle_idx) in data:\n",
    "    img = load_image(image_dir + img_pth + \".jpg\")\n",
    "    angle = angle_idx*128.\n",
    "    angle -= 1024./2.\n",
    "    angle /= 1024./2\n",
    "    angle *= steering_deg_range\n",
    "    angle *= np.pi / 180.\n",
    "    \n",
    "    pt0 = (40,25)\n",
    "    dx    =  15.*np.sin(angle)\n",
    "    dy    =  -15.*np.cos(angle)\n",
    "    delta = (dx,dy)\n",
    "    pt1   = np.add(pt0, delta).astype('int32')\n",
    "    pt1 = (pt1[0], pt1[1])\n",
    "    img   = cv2.line(img, pt0,pt1,(0,0,255), 1)\n",
    "    img   = cv2.putText(img, \"{:.2}\".format(angle_idx), \n",
    "                        (5,70), cv2.FONT_HERSHEY_SIMPLEX,\n",
    "                       0.4,\n",
    "                       (0,0,255),\n",
    "                       1)\n",
    "    cv2.imwrite(\"/home/jp/Desktop/my_video/im_{:09d}.jpg\".format(count), img)\n",
    "    \n",
    "    count += 1\n"
   ]
  },
  {
   "cell_type": "code",
   "execution_count": 104,
   "metadata": {},
   "outputs": [],
   "source": []
  },
  {
   "cell_type": "code",
   "execution_count": 68,
   "metadata": {},
   "outputs": [],
   "source": [
    "x = [(\"a\", 1),(\"b\", 2),(\"c\", 3)]\n",
    "y = [item for item in x if item[0] == \"a\"]"
   ]
  },
  {
   "cell_type": "code",
   "execution_count": 72,
   "metadata": {},
   "outputs": [
    {
     "name": "stdout",
     "output_type": "stream",
     "text": [
      "('a', 1)\n"
     ]
    }
   ],
   "source": [
    "print(y[0])\n"
   ]
  },
  {
   "cell_type": "code",
   "execution_count": null,
   "metadata": {},
   "outputs": [],
   "source": []
  }
 ],
 "metadata": {
  "kernelspec": {
   "display_name": "Python [conda env:conv-vae]",
   "language": "python",
   "name": "conda-env-conv-vae-py"
  },
  "language_info": {
   "codemirror_mode": {
    "name": "ipython",
    "version": 3
   },
   "file_extension": ".py",
   "mimetype": "text/x-python",
   "name": "python",
   "nbconvert_exporter": "python",
   "pygments_lexer": "ipython3",
   "version": "3.6.4"
  }
 },
 "nbformat": 4,
 "nbformat_minor": 2
}
